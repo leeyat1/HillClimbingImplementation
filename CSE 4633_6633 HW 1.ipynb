{
 "cells": [
  {
   "cell_type": "markdown",
   "metadata": {
    "id": "1gJY9GxJ52xY"
   },
   "source": [
    "# CSE 4633/6633 HW 1\n",
    "\n",
    "The assignment for this notebook is to implement local search algorithms such as hill-climbing, random restart, and simulated annealing to perform function optimization."
   ]
  },
  {
   "cell_type": "code",
   "execution_count": 63,
   "metadata": {
    "id": "FvYjEg3K5wxb"
   },
   "outputs": [],
   "source": [
    "# import required libraries\n",
    "import time\n",
    "import random\n",
    "import math\n",
    "import numpy as np\n",
    "import matplotlib.pyplot as plt\n",
    "import matplotlib"
   ]
  },
  {
   "cell_type": "code",
   "execution_count": 64,
   "metadata": {
    "id": "JUemWYtXwPtj"
   },
   "outputs": [],
   "source": [
    "# Create a complex objective function that we need to maximize.\n",
    "# Here, the objective function is simply defined as an equation but\n",
    "# more generally, it could represent natural phenomena, physical laws, or mathematical models\n",
    "#   X: a 2-dimensional floating-point vector consisting of an x-value and a y-value\n",
    "#   returns: a scalar floating-point value representing the output of the objective function\n",
    "def objective_function(X):\n",
    "    x = X[0]\n",
    "    y = X[1]\n",
    "    value = 3 * (1 - x) ** 2 * math.exp(-x ** 2 - (y + 1) ** 2) - 10 * (x / 5 - x ** 3 - y ** 5) * math.exp(\n",
    "        -x ** 2 - y ** 2) - (1 / 3) * math.exp(-(x + 1) ** 2 - y ** 2)\n",
    "    return value\n",
    "\n",
    "# to limit the search space for this problem, we will only consider solutions\n",
    "# where x ranges from -4 to 4 and y ranges from -4 to 4\n",
    "lower_bounds = [-4, -4]\n",
    "upper_bounds = [4, 4]"
   ]
  },
  {
   "cell_type": "markdown",
   "metadata": {
    "id": "1FJvJpWP8ViK"
   },
   "source": [
    "A 3D plot of the objective function can be viewed [here](https://c3d.libretexts.org/CalcPlot3D/index.html?type=z;z=3(1-x)%5E2*exp(-x%5E2-(y+1)%5E2)-10(x/5-x%5E3-y%5E5)*exp(-x%5E2-y%5E2)-(1/3)*exp(-(x+1)%5E2-y%5E2);visible=true;umin=-4;umax=4;vmin=-4;vmax=4;grid=30;format=normal;alpha=-1;hidemyedges=true;constcol=rgb(255,0,0);view=0;contourcolor=red;fixdomain=false;contourplot=true;showcontourplot=false;firstvalue=-1;stepsize=0.2;numlevels=11;list=;uselist=false;xnum=46;ynum=46;show2d=false;hidesurface=false;hidelabels=true;showprojections=false;surfacecontours=true;projectioncolor=rgba(255,0,0,1);showxygrid=false;showxygridonbox=false;showconstraint=false&type=window;hsrmode=3;nomidpts=true;anaglyph=-1;center=-5.2487653277286155,6.815843602039553,5.098503557610455,1;focus=0,0,0,1;up=0.39284920127083023,-0.3373981166615778,0.8554718089651412,1;transparent=false;alpha=140;twoviews=false;unlinkviews=false;axisextension=0.7;xaxislabel=x;yaxislabel=y;zaxislabel=z;edgeson=true;faceson=true;showbox=true;showaxes=true;showticks=true;perspective=true;centerxpercent=0.5;centerypercent=0.5;rotationsteps=30;autospin=true;xygrid=false;yzgrid=false;xzgrid=false;gridsonbox=true;gridplanes=false;gridcolor=rgb(128,128,128);xmin=-4;xmax=4;ymin=-4;ymax=4;zmin=-4;zmax=4;xscale=2;yscale=2;zscale=2;zcmin=-8;zcmax=8;xscalefactor=1;yscalefactor=1;zscalefactor=1;tracemode=0;keep2d=false;zoom=0.89)"
   ]
  },
  {
   "cell_type": "code",
   "execution_count": 65,
   "metadata": {
    "id": "I9JxXRNCrykL"
   },
   "outputs": [
    {
     "name": "stdout",
     "output_type": "stream",
     "text": [
      "objective_function(2.883, -2.909) = -0.000\n"
     ]
    }
   ],
   "source": [
    "# Let's try to randomly generate several random inputs to the objective function\n",
    "# and manually observe how the outputs change with different inputs\n",
    "\n",
    "X = np.random.uniform(lower_bounds, upper_bounds)\n",
    "value = objective_function(X)\n",
    "print('objective_function(%.3f, %.3f) = %.3f' % (X[0], X[1], value))"
   ]
  },
  {
   "cell_type": "markdown",
   "metadata": {
    "id": "7yG4yuY30w8F"
   },
   "source": [
    "# Part A: Hill-climbing"
   ]
  },
  {
   "cell_type": "code",
   "execution_count": 76,
   "metadata": {
    "id": "v5nkZ-jtuUTN"
   },
   "outputs": [],
   "source": [
    "# TODO: Hill-climbing search algorithm: a loop that continually moves in the direction of increasing value.\n",
    "# It terminates when it reaches a “peak” where no neighbor has a higher value.\n",
    "#   objective function: function to be maximized\n",
    "#   initial_state: initial (x, y) vector\n",
    "#   step_size: numerical interval by which to change the current (x,y) state to generate a new neighboring state\n",
    "#   print_iters: set to True to print out the current value at each iteration\n",
    "#   returns: best [x, y] solution found\n",
    "def hill_climbing(objective_function, initial_state=np.array([1, 0]), step_size=0.01, print_iters=True):\n",
    "    # set the starting point of the search algorithm\n",
    "    current_state = initial_state\n",
    "\n",
    "    # loop until a peak is found\n",
    "    i = 0\n",
    "    while True:\n",
    "        current_val = objective_function(current_state)\n",
    "        neighbors = []\n",
    "        x = float(current_state[0])\n",
    "        y = float(current_state[1])\n",
    "\n",
    "        neighbors.append([x+step_size, y])\n",
    "        neighbors.append([x, y+step_size])\n",
    "        neighbors.append([x+step_size, y+step_size])\n",
    "        neighbor_vals = [objective_function(neighbor) for neighbor in neighbors]\n",
    "\n",
    "        best_neighbor = neighbors[np.argmax(neighbor_vals)]\n",
    "        best_neighbor_val = objective_function(best_neighbor)\n",
    "\n",
    "        #print(\"BEST VAL: \", best_neighbor_value)\n",
    "\n",
    "        if best_neighbor_val > objective_function(current_state):\n",
    "            current_state = best_neighbor\n",
    "        else:\n",
    "            if print_iters:\n",
    "                print('iteration: {}, current_state: {}, current_value: {}'.format(i, current_state,\n",
    "                                                                                   objective_function(current_state)))\n",
    "            return current_state\n",
    "\n",
    "        i += 1"
   ]
  },
  {
   "cell_type": "code",
   "execution_count": 77,
   "metadata": {
    "id": "TYxurdCYxxlT"
   },
   "outputs": [
    {
     "name": "stdout",
     "output_type": "stream",
     "text": [
      "iteration: 29, current_state: [1.2900000000000003, 0.0], current_value: 3.592256699266626\n",
      "Hill climbing solution is: [1.2900000000000003, 0.0]\n",
      "[1.2900000000000003, 0.0]\n"
     ]
    }
   ],
   "source": [
    "hill_climbing_solution = hill_climbing(objective_function)\n",
    "print('Hill climbing solution is:', hill_climbing_solution)\n",
    "print(hill_climbing_solution)\n"
   ]
  },
  {
   "cell_type": "markdown",
   "metadata": {
    "id": "PRVP59z50zVB"
   },
   "source": [
    "# Part B: Random Restart"
   ]
  },
  {
   "cell_type": "code",
   "execution_count": 78,
   "metadata": {
    "id": "jQBNR3cszEIX"
   },
   "outputs": [],
   "source": [
    "# TODO: Improvement to the Hill-climbing search algorithm using random restarts\n",
    "#   objective function: function to be maximized\n",
    "#   lower_bounds: minimum allowable values for the input vector to the objective function \n",
    "#   upper_bounds: maximum allowable values for the input vector to the objective function\n",
    "#   step_size: numerical interval by which to change the current (x,y) state to generate a new neighboring state\n",
    "#   num_restarts: how many times to restart hill-climbing\n",
    "#   returns: best [x, y] solution found\n",
    "def random_restart_hill_climbing(objective_function, lower_bounds, upper_bounds, step_size = 0.01, num_restarts=10):\n",
    "    i = 0\n",
    "    hill_climbing(objective_function)\n",
    "    best_neighbors = []\n",
    "    while i < num_restarts:\n",
    "        x = random.uniform(lower_bounds[0], upper_bounds[0])\n",
    "        y = random.uniform(lower_bounds[0], upper_bounds[0])\n",
    "        sol = hill_climbing(objective_function, initial_state=[x, y])\n",
    "        i+=1    \n",
    "    return sol"
   ]
  },
  {
   "cell_type": "code",
   "execution_count": 79,
   "metadata": {
    "id": "Lp9Wlmve1P3Z"
   },
   "outputs": [
    {
     "name": "stdout",
     "output_type": "stream",
     "text": [
      "iteration: 29, current_state: [1.2900000000000003, 0.0], current_value: 3.592256699266626\n",
      "iteration: 30, current_state: [3.581220589242987, -0.016763797853355585], current_value: 0.0012373723462853795\n",
      "iteration: 584, current_state: [3.3301693672529424, -0.013562615149349888], current_value: 0.005628450341110371\n",
      "iteration: 197, current_state: [3.397584335178382, -0.015719946478712894], current_value: 0.003800277837185901\n",
      "iteration: 0, current_state: [2.111108755274751, 2.3637967796278394], current_value: 0.03595582245050744\n",
      "iteration: 93, current_state: [-0.005070508430558802, 3.2365485422642797], current_value: 0.10024068469535546\n",
      "iteration: 0, current_state: [2.4677557821575737, 0.20072596390555475], current_value: 0.3197920892984255\n",
      "iteration: 597, current_state: [3.3340509596058916, -0.017919570059025232], current_value: 0.005504187940698846\n",
      "iteration: 573, current_state: [3.3355808287953144, -0.012112752279542243], current_value: 0.005455789146984583\n",
      "iteration: 0, current_state: [0.03361089937974082, -3.098835366753468], current_value: -0.15861083626381606\n",
      "iteration: 2, current_state: [-0.0009344336178434172, 2.219996395669601], current_value: 3.9021507548515437\n",
      "Random restart hill climbing solution is: [-0.0009344336178434172, 2.219996395669601]\n"
     ]
    }
   ],
   "source": [
    "random_restart_solution = random_restart_hill_climbing(objective_function, lower_bounds, upper_bounds)\n",
    "print('Random restart hill climbing solution is:', random_restart_solution)"
   ]
  },
  {
   "cell_type": "markdown",
   "metadata": {
    "id": "t7w7F1t_11OL"
   },
   "source": [
    "# Part C: Simulated Annealing"
   ]
  },
  {
   "cell_type": "code",
   "execution_count": null,
   "metadata": {
    "id": "HIFKsujXxzvR"
   },
   "outputs": [],
   "source": [
    "# TODO: Simulated annealing algorithm\n",
    "#   objective function: function to be maximized\n",
    "#   lower_bounds: minimum allowable values for the input vector to the objective function \n",
    "#   upper_bounds: maximum allowable values for the input vector to the objective function\n",
    "#   returns: best [x, y] solution found\n",
    "\n",
    "def simulated_annealing(objective_function, lower_bounds, upper_bounds):\n",
    "  return None\n"
   ]
  },
  {
   "cell_type": "code",
   "execution_count": null,
   "metadata": {
    "id": "TvkxVtuz-XJM"
   },
   "outputs": [],
   "source": [
    "simulated_annealing_solution = simulated_annealing(objective_function, lower_bounds, upper_bounds)\n",
    "print('Simulated annealing solution is:', simulated_annealing_solution)"
   ]
  }
 ],
 "metadata": {
  "colab": {
   "authorship_tag": "ABX9TyPNn7NLhAszHPP/w0xkCmKf",
   "provenance": []
  },
  "kernelspec": {
   "display_name": "Python 3 (ipykernel)",
   "language": "python",
   "name": "python3"
  },
  "language_info": {
   "codemirror_mode": {
    "name": "ipython",
    "version": 3
   },
   "file_extension": ".py",
   "mimetype": "text/x-python",
   "name": "python",
   "nbconvert_exporter": "python",
   "pygments_lexer": "ipython3",
   "version": "3.11.1"
  }
 },
 "nbformat": 4,
 "nbformat_minor": 1
}
